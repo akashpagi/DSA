{
 "cells": [
  {
   "cell_type": "markdown",
   "id": "442afbb8",
   "metadata": {},
   "source": [
    "### INPLEMENTION OF DYNAMIC ARRAYS IN PYTHON :\n",
    "\n",
    "1. create list \n",
    "2. len\n",
    "3. append\n",
    "4. print\n",
    "5. indexing\n",
    "6. pop\n",
    "7. clear\n",
    "8. find\n",
    "9. insert\n",
    "10. delete\n",
    "11. remove\n",
    "\n",
    "count / min / max / sum\n",
    "extend\n",
    "negative indexing\n",
    "slicing\n",
    "megre"
   ]
  },
  {
   "cell_type": "markdown",
   "id": "b84b8703",
   "metadata": {},
   "source": [
    "#### **`CREATING LIST ACTS LIKE DYNAMIC ARRAYS IN PYTHON :`**\n",
    "- For creating own array class using c language arrays in python.\n",
    "- Here we have to import ctypes module in python\n",
    "- **ctypes module :** \n",
    "    - It is a foreign function library for Python. It provides C compatible data types, and allows calling functions in DLLs or shared libraries. It can be used to wrap these libraries in pure Python."
   ]
  },
  {
   "cell_type": "code",
   "execution_count": 323,
   "id": "d40d2211",
   "metadata": {},
   "outputs": [],
   "source": [
    "import ctypes\n",
    "\n",
    "class MyList:\n",
    "    \n",
    "    def __init__(self):  \n",
    "        self.size = 1 # initial size of array\n",
    "        self.items = 0 #current items in array \n",
    "        # creating c type array with size = self.size and provide size of new array \n",
    "        self.arr = self.__create_array(self.size)\n",
    "    \n",
    "    def __create_array(self, capacity):  \n",
    "        # it's code of c language that are written here\n",
    "        # creates a C type array (static, referential) with size capacity\n",
    "        return (capacity*ctypes.py_object)()\n",
    "    \n",
    "    # 2. Find the length of array using magic method\n",
    "    def __len__(self):\n",
    "        return self.items\n",
    "    \n",
    "    # 4. print\n",
    "    def __str__(self):\n",
    "        result = ''\n",
    "        for i in range(self.items):\n",
    "            result = result + str(self.arr[i]) + ','\n",
    "        return '[' + result[:-1] + ']'  \n",
    "            \n",
    "    # 5. Indexing using __getitem__ magic method\n",
    "    def __getitem__(self, index):\n",
    "        if 0 <= index < self.items:\n",
    "            return self.arr[index]\n",
    "        else:\n",
    "            return 'IndexError: invalid index !'\n",
    "        \n",
    "    # 10. delete the item\n",
    "    def __delitem__(self, pos):\n",
    "        # check deleted item\n",
    "        if 0<= pos < self.items:\n",
    "            # shiftting\n",
    "            for i in range(pos,self.items-1):\n",
    "                self.arr[i] = self.arr[i+1]\n",
    "            self.items = self.items - 1\n",
    "            \n",
    "    # 11. remove\n",
    "    def remove(self, item):\n",
    "        pos = self.find(item)\n",
    "        if type(pos) == int:\n",
    "            self.__delitem__(pos)\n",
    "        else:\n",
    "            return pos\n",
    "        \n",
    "    # 3. Append\n",
    "    def append_items(self, item):\n",
    "        # check\n",
    "        if self.size == self.items:\n",
    "            # array is full then resize\n",
    "            self.__resize(self.size*2)         \n",
    "        # append the item \n",
    "        self.arr[self.items] = item\n",
    "        self.items += 1\n",
    "        \n",
    "    # 6. pop\n",
    "    def pop_items(self):\n",
    "        if self.items == 0:\n",
    "            return 'Empty List !'\n",
    "        print(self.arr[self.items-1])\n",
    "        self.items = self.items - 1\n",
    "    \n",
    "    # 7. clear\n",
    "    def clear(self):\n",
    "        self.size = 1 # initial size of array\n",
    "        self.items = 0\n",
    "        \n",
    "    # 8.find item index\n",
    "    def find(self, item):\n",
    "        for i in range(self.items):\n",
    "            if self.arr[i] == item:\n",
    "                return i     \n",
    "        return 'ValueError - Not in list'\n",
    "            \n",
    "    # 9. insert items in list\n",
    "    def insert(self,pos, item):\n",
    "        if self.size == self.items:\n",
    "            self.__resize(self.size*2)         \n",
    "        # shiftting key\n",
    "        for i in range(self.items, pos, -1):\n",
    "            self.arr[i] = self.arr[i-1]\n",
    "        self.arr[pos] = item\n",
    "        self.items += 1\n",
    "       \n",
    "    def __resize(self, new_capacity):\n",
    "        # create a new array with new capacity\n",
    "        arr1 = self.__create_array(new_capacity)\n",
    "        self.size = new_capacity \n",
    "        # copy the itmes of arr(old array) to arr1(new array)\n",
    "        for i in range(self.items):\n",
    "            arr1[i] = self.arr[i]     \n",
    "        # reasigning arr\n",
    "        self.arr = arr1      \n",
    "         "
   ]
  },
  {
   "cell_type": "code",
   "execution_count": 324,
   "id": "70a9418c",
   "metadata": {},
   "outputs": [],
   "source": [
    "a = MyList()\n",
    "a.append_items(1)\n",
    "a.append_items('ASP')\n",
    "a.append_items(True)\n",
    "a.append_items('Hidden')"
   ]
  },
  {
   "cell_type": "code",
   "execution_count": 325,
   "id": "7758f137",
   "metadata": {},
   "outputs": [
    {
     "name": "stdout",
     "output_type": "stream",
     "text": [
      "[1,ASP,True,Hidden]\n"
     ]
    }
   ],
   "source": [
    "print(a)"
   ]
  },
  {
   "cell_type": "code",
   "execution_count": 326,
   "id": "1359c030",
   "metadata": {},
   "outputs": [
    {
     "data": {
      "text/plain": [
       "'IndexError: invalid index !'"
      ]
     },
     "execution_count": 326,
     "metadata": {},
     "output_type": "execute_result"
    }
   ],
   "source": [
    "a[200]"
   ]
  },
  {
   "cell_type": "code",
   "execution_count": 327,
   "id": "e79ebb1b",
   "metadata": {},
   "outputs": [],
   "source": [
    "# a.pop_items()"
   ]
  },
  {
   "cell_type": "code",
   "execution_count": 328,
   "id": "6afeacbe",
   "metadata": {},
   "outputs": [],
   "source": [
    "# a.clear()"
   ]
  },
  {
   "cell_type": "code",
   "execution_count": 329,
   "id": "3f8c0b7a",
   "metadata": {},
   "outputs": [
    {
     "name": "stdout",
     "output_type": "stream",
     "text": [
      "[1,ASP,True,Hidden]\n"
     ]
    }
   ],
   "source": [
    "print(a)"
   ]
  },
  {
   "cell_type": "code",
   "execution_count": 330,
   "id": "ad979b25",
   "metadata": {},
   "outputs": [
    {
     "data": {
      "text/plain": [
       "'ValueError - Not in list'"
      ]
     },
     "execution_count": 330,
     "metadata": {},
     "output_type": "execute_result"
    }
   ],
   "source": [
    "a.find('H')"
   ]
  },
  {
   "cell_type": "code",
   "execution_count": 331,
   "id": "ba2f2d77",
   "metadata": {},
   "outputs": [],
   "source": [
    "a.insert(1, 'Hi')"
   ]
  },
  {
   "cell_type": "code",
   "execution_count": 332,
   "id": "81066169",
   "metadata": {},
   "outputs": [
    {
     "name": "stdout",
     "output_type": "stream",
     "text": [
      "[1,Hi,ASP,True,Hidden]\n"
     ]
    }
   ],
   "source": [
    "print(a)"
   ]
  },
  {
   "cell_type": "code",
   "execution_count": 333,
   "id": "ef6ee9ce",
   "metadata": {},
   "outputs": [],
   "source": [
    "a.insert(4, 'Python')"
   ]
  },
  {
   "cell_type": "code",
   "execution_count": 334,
   "id": "16d575ea",
   "metadata": {},
   "outputs": [
    {
     "name": "stdout",
     "output_type": "stream",
     "text": [
      "[1,Hi,ASP,True,Python,Hidden]\n"
     ]
    }
   ],
   "source": [
    "print(a)"
   ]
  },
  {
   "cell_type": "code",
   "execution_count": 335,
   "id": "4ce24f94",
   "metadata": {},
   "outputs": [],
   "source": [
    "del a[0]"
   ]
  },
  {
   "cell_type": "code",
   "execution_count": 336,
   "id": "bf6fe782",
   "metadata": {},
   "outputs": [
    {
     "name": "stdout",
     "output_type": "stream",
     "text": [
      "[Hi,ASP,True,Python,Hidden]\n"
     ]
    }
   ],
   "source": [
    "print(a)"
   ]
  },
  {
   "cell_type": "code",
   "execution_count": 337,
   "id": "5bfd7ee5",
   "metadata": {},
   "outputs": [
    {
     "name": "stdout",
     "output_type": "stream",
     "text": [
      "[Hi,ASP,True,Hidden]\n"
     ]
    }
   ],
   "source": [
    "del a[3]\n",
    "print(a)"
   ]
  },
  {
   "cell_type": "code",
   "execution_count": 338,
   "id": "ee0db2b5",
   "metadata": {},
   "outputs": [
    {
     "name": "stdout",
     "output_type": "stream",
     "text": [
      "[Hi,ASP,True,Hidden]\n"
     ]
    }
   ],
   "source": [
    "del a[100]\n",
    "print(a)"
   ]
  },
  {
   "cell_type": "code",
   "execution_count": 341,
   "id": "6ef6e277",
   "metadata": {},
   "outputs": [
    {
     "name": "stdout",
     "output_type": "stream",
     "text": [
      "[Hi,ASP,True]\n"
     ]
    }
   ],
   "source": [
    "a.remove('Hidden')\n",
    "print(a)"
   ]
  },
  {
   "cell_type": "code",
   "execution_count": 342,
   "id": "560b8d49",
   "metadata": {},
   "outputs": [
    {
     "name": "stdout",
     "output_type": "stream",
     "text": [
      "[Hi,True]\n"
     ]
    }
   ],
   "source": [
    "a.remove('ASP')\n",
    "print(a)"
   ]
  },
  {
   "cell_type": "code",
   "execution_count": null,
   "id": "62b34f15",
   "metadata": {},
   "outputs": [],
   "source": []
  }
 ],
 "metadata": {
  "kernelspec": {
   "display_name": "Python 3 (ipykernel)",
   "language": "python",
   "name": "python3"
  },
  "language_info": {
   "codemirror_mode": {
    "name": "ipython",
    "version": 3
   },
   "file_extension": ".py",
   "mimetype": "text/x-python",
   "name": "python",
   "nbconvert_exporter": "python",
   "pygments_lexer": "ipython3",
   "version": "3.10.7"
  }
 },
 "nbformat": 4,
 "nbformat_minor": 5
}
